{
 "cells": [
  {
   "cell_type": "code",
   "execution_count": null,
   "id": "b8ae57c3-9b80-4eeb-879c-be1a641d32d4",
   "metadata": {},
   "outputs": [],
   "source": [
    "%load_ext autoreload\n",
    "%autoreload 2"
   ]
  },
  {
   "cell_type": "code",
   "execution_count": null,
   "id": "ece57d61-9630-47e4-b21a-dab7543c379f",
   "metadata": {},
   "outputs": [],
   "source": [
    "from diffusers import DiffusionPipeline\n",
    "import torch\n",
    "import matplotlib.pyplot as plt\n",
    "from qunet import QUNet2DConditionModel\n",
    "from diffusers.models import UNet2DConditionModel\n",
    "from QPyTorch.qtorch import BlockFloatingPoint, FixedPoint, FloatingPoint\n",
    "from qpipe import run_qpipe, parse_quant, get_qnet\n",
    "\n",
    "from torchmetrics.functional.multimodal import clip_score\n",
    "from functools import partial\n",
    "from PIL import Image\n",
    "import os\n",
    "import numpy as np\n",
    "from utils.presentation import plot_hybrid_grid, suppress_plot_show, create_video, print_matrices\n",
    "from utils.evaluate import eval_mse_stats, eval_mse_matrix"
   ]
  },
  {
   "cell_type": "code",
   "execution_count": null,
   "id": "ea2c7555-01d0-4ab8-b0e1-3ba9d3991df6",
   "metadata": {},
   "outputs": [],
   "source": [
    "directory = \"images\"\n",
    "##directory = \"images_20_v4\"\n",
    "\n",
    "def search_directory(directory):\n",
    "    runs = os.listdir(directory)\n",
    "    runs = [os.path.join(directory, run) for run in runs if os.path.isdir(os.path.join(directory, run))]\n",
    "    return runs\n",
    "\n",
    "runs = search_directory(directory)\n",
    "\n",
    "\n"
   ]
  },
  {
   "cell_type": "code",
   "execution_count": null,
   "id": "8c61f28c-4575-4660-aaf8-d2946e5ceb39",
   "metadata": {},
   "outputs": [],
   "source": [
    "mruns = []\n",
    "conds=[\"M23E8\", \"M3E4\"]\n",
    "for cond in conds:\n",
    "    mruns = mruns + [run for run in runs if cond in run]\n",
    "\n",
    "\n",
    "filters = [\"morgana2\",\"x800\"]\n",
    "for filter in filters:\n",
    "    mruns =  [run for run in mruns if filter in run]\n",
    "\n",
    "def swapPositions(list, pos1, pos2):\n",
    "     \n",
    "    list[pos1], list[pos2] = list[pos2], list[pos1]\n",
    "    return list\n",
    "\n",
    "mruns\n"
   ]
  },
  {
   "cell_type": "code",
   "execution_count": null,
   "id": "9fa60674",
   "metadata": {},
   "outputs": [],
   "source": [
    "runs = ['images/morgana2x100_M23E8_V4',\n",
    "        'images/morgana2x100_A_M23E8_W_M3E4_flex_V4',\n",
    "        'images/morgana2x100_M3E4_flex_V4',\n",
    "        'images/morgana2x100_M3E4_flex_V4_embedding_',\n",
    "        'images/morgana2x100_M3E4_flex_V4_embedding__adjustedV2',\n",
    "]\n",
    "torch.cuda.set_device(1)\n",
    "create_video(\"100_steps_M3E4_embedding_adjustments\", runs, 4, display_mse = True, display_is = True, repeat_baseline = True)"
   ]
  },
  {
   "cell_type": "code",
   "execution_count": null,
   "id": "0d92a5b2",
   "metadata": {},
   "outputs": [],
   "source": [
    "runs = [   \n",
    " 'images/morgana2x800_M23E8_V4',\n",
    " 'images/morgana2x800_M2E5_V4',\n",
    " 'images/morgana2x800_M2E5_flex_V4',\n",
    " ##'images/morgana2x800_M2E5_flex_embedding',\n",
    " 'images/morgana2x800_M2E5_flex_not_embedding',\n",
    " 'images/morgana2x800_M2E5_flex_embedding_adjustedV2',\n",
    " 'images/sim_morgana2x800_M2E5_flex_embedding_adjustedV2',\n",
    "]\n",
    "create_video(\"800_steps_M2E5_embedding_adjustments\", runs, 4, seconds=5, display_mse = True, display_is = False, repeat_baseline = True)"
   ]
  },
  {
   "cell_type": "code",
   "execution_count": null,
   "id": "5c13afc9",
   "metadata": {},
   "outputs": [],
   "source": [
    "runs = ['images/morgana2x800_M23E8_V4',\n",
    " 'images/morgana2x800_M3E4_V4',\n",
    " 'images/morgana2x800_M3E4_flex_V4',\n",
    " 'images/morgana2x800_M3E4_flex_V4_not_embedding_',\n",
    " 'images/morgana2x800_M3E4_flex_V4_embedding_',\n",
    " 'images/morgana2x800_M3E4_flex_V4_embedding__adjustedV2',\n",
    "]\n",
    "torch.cuda.set_device(1)\n",
    "create_video(\"800_steps_M3E4_embedding_adjustments\", runs, 4, display_mse = True, display_is = False, repeat_baseline = True)"
   ]
  },
  {
   "cell_type": "code",
   "execution_count": null,
   "id": "5f8d2224",
   "metadata": {},
   "outputs": [],
   "source": [
    "from utils.evaluate import inception_score, from_dirs\n",
    "\n",
    "images_png = from_dirs(['images/morgana2x800_M3E4_V4'], [0], type = \"png\")\n",
    "inception_score(images_png, batch_size=1, splits = 1)[0] "
   ]
  },
  {
   "cell_type": "code",
   "execution_count": null,
   "id": "79b960f8-97f7-410b-b686-8feb36dfebee",
   "metadata": {},
   "outputs": [],
   "source": [
    "runs = [\n",
    "    'images/morgana2x800_M23E8_V4',\n",
    "    'images/morgana2x800_M3E4_flex_V4_embedding_',\n",
    "    'images/morgana2x800_M3E4_flex_V4_embedding__adjustedV2',\n",
    "    'images/sim_morgana2x800_M3E4_flex_V4_embedding__adjustedV2',\n",
    "    ]\n",
    "\n",
    "create_video(\"800_steps_M3E4_embedding_adjusted\", runs, 4)"
   ]
  },
  {
   "cell_type": "code",
   "execution_count": null,
   "id": "a8cd1e44-bb1f-433a-91ee-a5767316469e",
   "metadata": {},
   "outputs": [],
   "source": [
    "runs = [\n",
    "    'images/morgana2x800_M23E8_V4',\n",
    "    'images/morgana2x800_M3E4_flex_V4_embedding_',\n",
    "    'images/morgana2x800_M3E4_flex_V4_embedding__adjustedV2',\n",
    "    'images/sim_morgana2x800_M3E4_flex_V4_embedding__adjustedV2',\n",
    "    ]\n",
    "\n",
    "create_video(\"800_steps_M3E4_embedding_adjusted\", runs, 4)"
   ]
  },
  {
   "cell_type": "code",
   "execution_count": null,
   "id": "e1cb04b5",
   "metadata": {},
   "outputs": [],
   "source": [
    "runs = [\n",
    "    'images/morgana2x800_M23E8_V4',\n",
    "    'images/morgana2x800_M3E4_flex_V4_embedding_',\n",
    "    'images/morgana2x800_M3E4_flex_V4_embedding__adjustedV2',\n",
    "    'images/sim_morgana2x800_M3E4_flex_V4_embedding__adjustedV2',\n",
    "    ]\n",
    "\n",
    "##with suppress_plot_show():\n",
    "plot_hybrid_grid(\"800_steps_M3E4_embedding_adjusted\", runs, 4, show_mse = True)"
   ]
  },
  {
   "cell_type": "code",
   "execution_count": null,
   "id": "eb67cad0-2c07-45c4-b7f6-f2553b41e195",
   "metadata": {},
   "outputs": [],
   "source": [
    "runs = [\n",
    "    'images/sunsetx800_M23E8_V4',\n",
    "    'images/sunsetx800_M3E4_flex_V4',\n",
    "    'images/sunsetx800_M3E4_flex_V4_adjustedV2',\n",
    "    'images/sim_sunsetx800_M3E4_flex_V4_adjustedV2',\n",
    "    ]\n",
    "\n",
    "with suppress_plot_show():\n",
    "    plot_hybrid_grid(\"800_steps_M3E4\", runs, 4)"
   ]
  },
  {
   "cell_type": "code",
   "execution_count": null,
   "id": "591913e6-42e7-4828-9e54-cf1f334a868d",
   "metadata": {},
   "outputs": [],
   "source": [
    "qtype = \"M3E4\"\n",
    "            \n",
    "mruns = [\n",
    " f'images/M23E8_V4',\n",
    " f'images/A_M23E8_W_{qtype}_flex_V4',\n",
    " f'images/{qtype}_flex_V4',\n",
    " f'images/{qtype}_flex_V4_adjustedV2',\n",
    " f'images/sim_{qtype}_flex_V4_adjustedV2',\n",
    "#  f'images/22_{qtype}_flex_V4',\n",
    "#  f'images/22_{qtype}_flex_V4_adjustedV2',\n",
    "#  f'images/sim_22_{qtype}_flex_V4_adjustedV2',\n",
    " f'images/25_{qtype}_flex_V4',\n",
    " f'images/25_{qtype}_flex_V4_adjustedV2',\n",
    " f'images/sim_25_{qtype}_flex_V4_adjustedV2']\n",
    "\n",
    "\n",
    "with suppress_plot_show():\n",
    "    plot_hybrid_grid(qtype, mruns, [0,1,2,3]);"
   ]
  },
  {
   "cell_type": "code",
   "execution_count": null,
   "id": "9563efb4-5ba2-4949-ab15-87ef34bfded8",
   "metadata": {},
   "outputs": [],
   "source": [
    "\n",
    "qtype = \"M3E4\"\n",
    "            \n",
    "mruns = [\n",
    " f'images/M23E8_V4',\n",
    " f'images/A_M23E8_W_{qtype}_flex_V4',\n",
    " f'images/{qtype}_flex_V4',\n",
    " f'images/{qtype}_flex_V4_adjustedV2',\n",
    " f'images/sim_{qtype}_flex_V4_adjustedV2',\n",
    "#  f'images/22_{qtype}_flex_V4',\n",
    "#  f'images/22_{qtype}_flex_V4_adjustedV2',\n",
    "#  f'images/sim_22_{qtype}_flex_V4_adjustedV2',\n",
    " f'images/25_{qtype}_flex_V4',\n",
    " f'images/25_{qtype}_flex_V4_adjustedV2',\n",
    " f'images/sim_25_{qtype}_flex_V4_adjustedV2']\n",
    "\n",
    "\n",
    "with suppress_plot_show():\n",
    "    plot_hybrid_grid(qtype, mruns, [0,1,2,3], directory=\"images_20_v4\")"
   ]
  },
  {
   "cell_type": "code",
   "execution_count": null,
   "id": "f43c36f7-f989-4207-b419-f1fb9d09b70b",
   "metadata": {},
   "outputs": [],
   "source": [
    "qtype = \"M2E5\"\n",
    "\n",
    "\n",
    "mruns = [\n",
    " 'images_20_v4/M23E8_V3',\n",
    " 'images_20_v4/M2E5_flex_V3',   \n",
    " 'images_20_v4/24_M2E5_flex_V3',\n",
    " 'images_20_v4/24_M2E5_flex_V4_adjustedV2',\n",
    " 'images_20_v4/25_M2E5_flex_V3',\n",
    " 'images_20_v4/25_M2E5_flex_V4_adjustedV2',\n",
    " 'images_20_v4/25_M23E8_V3']\n",
    "\n",
    "with suppress_plot_show():\n",
    "    plot_hybrid_grid(qtype, mruns, [0,1,2,3])"
   ]
  },
  {
   "cell_type": "code",
   "execution_count": null,
   "id": "2e505117",
   "metadata": {},
   "outputs": [],
   "source": [
    "qtype = \"M2E5\"\n",
    "\n",
    "\n",
    "mruns = [\n",
    "    'images/M23E8_V4',\n",
    "    'images/A_M23E8_W_M2E5_flex_V4',\n",
    "    'images/20_M2E5_flex_V4',\n",
    "    'images/20_M2E5_flex_V4_adjustedV2',\n",
    "    'images/25_M2E5_flex_V4',\n",
    "    'images/25_M2E5_flex_V4_adjustedV2',\n",
    "    'images/30_M2E5_flex_V4',\n",
    "    'images/30_M2E5_flex_V4_adjustedV2',\n",
    "    ]\n",
    "\n",
    "with suppress_plot_show():\n",
    "    plot_hybrid_grid(qtype, mruns, [0,1,2,3])\n"
   ]
  },
  {
   "cell_type": "code",
   "execution_count": null,
   "id": "05194a08",
   "metadata": {},
   "outputs": [],
   "source": [
    "runs = search_directory(\"images\")\n",
    "\n",
    "\n",
    "mruns = []\n",
    "conds=[\"morgana\"]\n",
    "for cond in conds:\n",
    "    mruns = mruns + [run for run in runs if cond in run]\n",
    "\n",
    "mruns"
   ]
  },
  {
   "cell_type": "code",
   "execution_count": null,
   "id": "2d1932c0",
   "metadata": {},
   "outputs": [],
   "source": [
    "runs100 = [\n",
    "    'images/morgana2x100_M23E8_V4',\n",
    "    'images/morgana2x100_M3E4_flex_V4',\n",
    "    'images/morgana2x100_M4E3_flex_V4',\n",
    "    'images/morgana2x100_M2E5_flex_V4',\n",
    "    ]\n",
    "\n",
    "with suppress_plot_show():\n",
    "    plot_hybrid_grid(\"100steps\", runs100, [0,1,2,3])"
   ]
  },
  {
   "cell_type": "code",
   "execution_count": null,
   "id": "81a93c80",
   "metadata": {},
   "outputs": [],
   "source": [
    "runs = [\n",
    "    'images/morgana2x20_M23E8_V4',\n",
    "    'images/morgana2x20_M2E5_flex_V4',\n",
    "    'images/morgana2x100_M23E8_V4',\n",
    "    'images/morgana2x100_M2E5_flex_V4',\n",
    "    'images/morgana2x300_M2E5_V4',\n",
    "    'images/morgana2x300_M2E5_V4_adjustedV2',\n",
    "    'images/sim_morgana2x300_M2E5_V4_adjustedV2',\n",
    "    'images/morgana2x400_M23E8_V4',\n",
    "    'images/morgana2x400_M2E5_flex_V4',\n",
    "    'images/morgana2x400_M2E5_flex_V4_adjustedV2',\n",
    "    'images/sim_morgana2x400_M2E5_flex_V4_adjustedV2',\n",
    "    ]\n",
    "\n",
    "with suppress_plot_show():\n",
    "    plot_hybrid_grid(\"more_steps_M2E5\", runs, [0,1,2,3])"
   ]
  },
  {
   "cell_type": "code",
   "execution_count": null,
   "id": "e340211f-eb33-44a5-be39-817599d2a7b0",
   "metadata": {},
   "outputs": [],
   "source": []
  }
 ],
 "metadata": {
  "kernelspec": {
   "display_name": "Python 3 (ipykernel)",
   "language": "python",
   "name": "python3"
  },
  "language_info": {
   "codemirror_mode": {
    "name": "ipython",
    "version": 3
   },
   "file_extension": ".py",
   "mimetype": "text/x-python",
   "name": "python",
   "nbconvert_exporter": "python",
   "pygments_lexer": "ipython3",
   "version": "3.12.2"
  }
 },
 "nbformat": 4,
 "nbformat_minor": 5
}
