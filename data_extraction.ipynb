{
 "cells": [
  {
   "cell_type": "code",
   "execution_count": null,
   "id": "c2683016-80b2-4526-8363-32ece6239964",
   "metadata": {},
   "outputs": [],
   "source": [
    "import wandb\n",
    "import pandas as pd\n",
    "import matplotlib.pyplot as plt\n",
    "from qpipe import *\n",
    "import numpy as np\n",
    "from math import sqrt, log, exp\n"
   ]
  },
  {
   "cell_type": "code",
   "execution_count": null,
   "id": "3b37ef67-2259-47ed-9f42-c9b0d52dc387",
   "metadata": {},
   "outputs": [],
   "source": [
    "api = wandb.Api()\n",
    "\n",
    "# Replace 'my-project' with your project name and 'my-run-name' with your run name\n",
    "path_M4E3 = \"dl-projects/qpipe/m22a82qa\"\n",
    "path_M3E4 = \"dl-projects/qpipe/9pcbity4\"\n",
    "path_M2E5 = \"dl-projects/qpipe/hiidxu4f\"\n",
    "run = api.run(path_M3E4)\n"
   ]
  },
  {
   "cell_type": "code",
   "execution_count": null,
   "id": "18970aa6-c84d-474b-8d2a-e33b5423112d",
   "metadata": {},
   "outputs": [],
   "source": [
    "history = run.history()\n",
    "qnet_Std = history['qnet_Std']\n",
    "steps = history['_step']\n",
    "T = len(steps)\n",
    "y0 = qnet_Std.values[0]\n",
    "y1 = qnet_Std.values[-1]\n",
    "ymid = qnet_Std.values[T//2]\n",
    "\n",
    "print(\"%.04f, %.04f, %.04f\" %   (y0, y1 ,ymid))"
   ]
  },
  {
   "cell_type": "code",
   "execution_count": null,
   "id": "75026de9-43d7-466d-9979-3e10e28aa404",
   "metadata": {},
   "outputs": [],
   "source": [
    "from utils.evaluate import *\n",
    "from utils.quantization_interpolation import *"
   ]
  },
  {
   "cell_type": "code",
   "execution_count": null,
   "id": "f213d6e2-4709-4a23-9cb6-da747f9469b9",
   "metadata": {},
   "outputs": [],
   "source": [
    "def oneover_quantization_noise(q0, q1, T, qmid):\n",
    "    x = torch.arange(0, T, dtype=torch.float32)\n",
    "\n",
    "    ## \\frac{1}{T}\\sqrt{\\left(\\frac{y_{0}}{y_{1}}\\right)^{2}-1}=b\n",
    "    \n",
    "    a = q0\n",
    "    b = ((q0/q1)**2-1)/(T-1)**2\n",
    "    y = a / torch.sqrt(b*x**2+1) \n",
    "    return y\n"
   ]
  },
  {
   "cell_type": "code",
   "execution_count": null,
   "id": "0736cdd0-0809-4ad9-9c9e-6da107162a66",
   "metadata": {},
   "outputs": [],
   "source": [
    "y_e = exponential_quantization_noise(y0,y1,T)\n",
    "y_p = polynomial_quantization_noise(y0,y1,T)\n",
    "y_pp = polynomial_quantization_noise(y0,y1,T, ymid)\n",
    "\n",
    "y_ee = expexp_quantization_noise(y0 ,y1,T , ymid)\n",
    "\n",
    "y_1o = oneover_quantization_noise(y0 ,y1,T , ymid)\n",
    "\n",
    "##power = 1/5\n",
    "\n",
    "##y_e_power = exponential_quantization_noise(y0**power,y1**power,T)**(1/power)\n",
    "\n",
    "\n",
    "x = np.arange(T)"
   ]
  },
  {
   "cell_type": "code",
   "execution_count": null,
   "id": "9c23f3f0-8b82-4b42-9aa2-d0bbf1b48d0a",
   "metadata": {},
   "outputs": [],
   "source": []
  },
  {
   "cell_type": "code",
   "execution_count": null,
   "id": "03722613-00ca-4a07-ac60-952ea2434d9e",
   "metadata": {},
   "outputs": [],
   "source": [
    "plt.semilogy(steps, qnet_Std)\n",
    "##plt.semilogy(x,y_ee)\n",
    "##plt.semilogy(x,y_e)\n",
    "##plt.semilogy(x,y_ee)\n",
    "plt.semilogy(x,y_e)\n",
    "plt.semilogy(x,y_ee)\n",
    "plt.semilogy(x,y_1o)\n",
    "\n",
    "##plt.semilogy(x,x)\n",
    "\n",
    "\n",
    "##plt.semilogy(x,y_e_power)\n",
    "\n",
    "##plt.semilogy(x,y_e_sqrt)\n",
    "\n",
    "##plt.plot(x,y_p)\n",
    "\n"
   ]
  },
  {
   "cell_type": "code",
   "execution_count": null,
   "id": "f9483a56",
   "metadata": {},
   "outputs": [],
   "source": [
    "def calculate_gamma(sigma_Q, r):\n",
    "\n",
    "    term = 1 - sigma_Q**2 * (1 - r**2)\n",
    "    sqrt_term = torch.sqrt(term)\n",
    "    \n",
    "    numerator = sqrt_term + (1 - r) * sigma_Q**2 - 1\n",
    "    denominator = 1 - sigma_Q**2\n",
    "    \n",
    "    result = numerator / denominator\n",
    "    \n",
    "\n",
    "    ## nan to 0\n",
    "    result = torch.nan_to_num(result, nan=0.0)\n",
    "\n",
    "    return result"
   ]
  },
  {
   "cell_type": "code",
   "execution_count": null,
   "id": "184af2df-6704-47c4-bd0b-c5b1058905f9",
   "metadata": {},
   "outputs": [],
   "source": [
    "from diffusers import DiffusionPipeline\n",
    "\n",
    "from utils.evaluate import *\n",
    "from utils.quantization_interpolation import *\n",
    "from quantized_euler_discrete import QuantizedEulerDiscreteScheduler\n",
    "\n",
    "fwd_quant= \"M2E5\"\n",
    "style=\"cosh\"\n",
    "n_steps=20\n",
    "sigma_q= interpolate_quantization_noise(fwd_quant, style, n_steps)"
   ]
  },
  {
   "cell_type": "code",
   "execution_count": null,
   "id": "1abaee87-3c70-4f8a-ba4a-31bd69fd158f",
   "metadata": {},
   "outputs": [],
   "source": [
    "\n",
    "gamma = calculate_gamma(sigma_q, 0.5)"
   ]
  },
  {
   "cell_type": "code",
   "execution_count": null,
   "id": "2544a6bd",
   "metadata": {},
   "outputs": [],
   "source": [
    "base = DiffusionPipeline.from_pretrained(\n",
    "    \"stabilityai/stable-diffusion-xl-base-1.0\", torch_dtype=torch.float32, use_safetensors=True \n",
    ")\n",
    "base.to(\"cuda\");\n",
    "base.scheduler = QuantizedEulerDiscreteScheduler.from_scheduler(base.scheduler, \n",
    "                                                                quantization_noise = sigma_q,\n",
    "                                                                gamma_threshold = 1,\n",
    "                                                                quantized_run = True)\n",
    "\n",
    "base.scheduler.set_timesteps(20)"
   ]
  },
  {
   "cell_type": "code",
   "execution_count": null,
   "id": "b28906e9",
   "metadata": {},
   "outputs": [],
   "source": [
    "sigmas = base.scheduler.sigmas\n",
    "\n",
    "r = sigmas[1:]/sigmas[:-1]"
   ]
  },
  {
   "cell_type": "code",
   "execution_count": null,
   "id": "7e20d782",
   "metadata": {},
   "outputs": [],
   "source": [
    "gamma = calculate_gamma(sigma_q, r)"
   ]
  },
  {
   "cell_type": "code",
   "execution_count": null,
   "id": "f8a56277",
   "metadata": {},
   "outputs": [],
   "source": [
    "from utils.presentation import *\n",
    "\n",
    "\n",
    "dtype= \"M3E4\"\n",
    "f1 = lambda x: x.endswith(f\"{dtype}_flex_V4\")\n",
    "##f2 = lambda x: \"V3_adjusted\" in x\n",
    "f3 = lambda x: \"V4_adjustedV2\" in x and not x.startswith(\"sim_\")\n",
    "f4 = lambda x: x.startswith(\"sim_\")\n",
    "\n",
    "field = \"IS\"\n",
    "field = \"clip_score_mean\"\n",
    "\n",
    "verbose = True\n",
    "plot_lines(dtype = dtype, filter = f1, label = \"vanilla\", field = field, verbose = verbose)\n",
    "##plot_lines(dtype = dtype, filter = f2, label = \"old\", field = field)\n",
    "\n",
    "plot_lines(dtype = dtype, filter = f3, label = \"fixed\", field = field, verbose = verbose)\n",
    "plot_lines(dtype = dtype, filter = f4, label = \"sim\", field = field, verbose = verbose, baseline = True)\n",
    "\n",
    "##plot_lines(filter = f5, label = \"simm\", field = field, baseline = True)\n",
    "\n",
    "plt.legend(loc='lower center')\n"
   ]
  },
  {
   "cell_type": "code",
   "execution_count": null,
   "id": "0882aa59",
   "metadata": {},
   "outputs": [],
   "source": []
  },
  {
   "cell_type": "code",
   "execution_count": null,
   "id": "9998d837",
   "metadata": {},
   "outputs": [],
   "source": [
    "## get scalar metric:\n",
    "\n",
    "df = mruns[0].summary['count']\n",
    "df"
   ]
  },
  {
   "cell_type": "markdown",
   "metadata": {},
   "source": [
    "mruns[0]"
   ]
  },
  {
   "cell_type": "code",
   "execution_count": null,
   "id": "8ca12ff7",
   "metadata": {},
   "outputs": [],
   "source": [
    "mruns[0].config['num_inference_steps']"
   ]
  },
  {
   "cell_type": "code",
   "execution_count": null,
   "id": "34bfa95e",
   "metadata": {},
   "outputs": [],
   "source": []
  }
 ],
 "metadata": {
  "kernelspec": {
   "display_name": "Python 3 (ipykernel)",
   "language": "python",
   "name": "python3"
  },
  "language_info": {
   "codemirror_mode": {
    "name": "ipython",
    "version": 3
   },
   "file_extension": ".py",
   "mimetype": "text/x-python",
   "name": "python",
   "nbconvert_exporter": "python",
   "pygments_lexer": "ipython3",
   "version": "3.12.2"
  }
 },
 "nbformat": 4,
 "nbformat_minor": 5
}
